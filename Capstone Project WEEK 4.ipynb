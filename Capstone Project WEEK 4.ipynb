{
 "cells": [
  {
   "cell_type": "markdown",
   "metadata": {},
   "source": [
    "# Capstone Project - The Battle of Neighborhoods"
   ]
  },
  {
   "cell_type": "markdown",
   "metadata": {},
   "source": [
    "## 1. Introduction"
   ]
  },
  {
   "cell_type": "markdown",
   "metadata": {},
   "source": [
    "In this project for the capstone course for Applied Data Science, we shall cluster and compare neighbourhoods in Toronto on the basis of popular venues. At the end of the exercise, we shall have multiple groups of neighborhoods based on the most popular venus.\n",
    "The goal is to better understand the disfférences between the neignbohoods in Toronto."
   ]
  },
  {
   "cell_type": "markdown",
   "metadata": {},
   "source": [
    "## 2. Business Problem"
   ]
  },
  {
   "cell_type": "markdown",
   "metadata": {},
   "source": [
    "The goal if this projet is to have a better understanding of the neighborhoods in Toronto.\n",
    "Theses informations could be used later by investors the choose in which neighborhood the should open new venues and develop theur business."
   ]
  },
  {
   "cell_type": "markdown",
   "metadata": {},
   "source": [
    "## 3. Data"
   ]
  },
  {
   "cell_type": "markdown",
   "metadata": {},
   "source": [
    "In this projet we will be using data collected from Foursquare; we will use the Foursquare API to explore neighborhoods in Toronto. You will use the **explore** function to get the most common venue categories in each neighborhood, and then use this feature to group the neighborhoods into clusters."
   ]
  },
  {
   "cell_type": "markdown",
   "metadata": {},
   "source": [
    "## 4. Methodology"
   ]
  },
  {
   "cell_type": "markdown",
   "metadata": {},
   "source": [
    "In order to get a better vision of the venues distribution among the neighborhoods we're going to focus only of the top 10 venus in Toronto.\n",
    "Having limited the number of venus we shall be able to have a simplified view ofneighborhoods différences.\n",
    "Once we have the data in the right format we're going to use kmeans clustering to divide the neighborhoods into 3 groups."
   ]
  },
  {
   "cell_type": "markdown",
   "metadata": {},
   "source": [
    "## 5. Results "
   ]
  },
  {
   "cell_type": "markdown",
   "metadata": {},
   "source": [
    "We have now completed the clustering phase a have this map illustration the 3 clusters:\n",
    "<img src=\"3_clusters_toronto.png\">\n",
    "\n",
    "To better understand the difference between the cluster, we have studied the number of venues for each cluster by venu type:\n",
    "<img src=\"3_clusters_toronto_details.png\">\n",
    "\n",
    "### Cluster 0\n",
    "It is the cluster indicated in red in the map above, it represent neighboorhouds with a high concentratioon of venues, mainly food related venus such as coffee shop, café and restarants.\n",
    "\n",
    "### Cluster 1\n",
    "It is the cluster indicated in violet in the map above, it represent neighboorhouds with a lower concentration of venues but a lot of parks nevertheless.\n",
    "\n",
    "### Cluster 2\n",
    "It is the cluster indicated in light green in the map above, it represent neighboorhouds with a lower concentration of venues but a lot of coffee shops nevertheless."
   ]
  },
  {
   "cell_type": "markdown",
   "metadata": {},
   "source": [
    "## 6. Discussion "
   ]
  },
  {
   "cell_type": "markdown",
   "metadata": {},
   "source": [
    "There is an important factor which should be added to this analysis regarding the population of each neighborhood. there is certainly correlation between the demographic aspect and the venues available."
   ]
  },
  {
   "cell_type": "markdown",
   "metadata": {},
   "source": [
    "## 7. Conclusion "
   ]
  },
  {
   "cell_type": "markdown",
   "metadata": {},
   "source": [
    "I believe this analysis present a quick overview of the differences between neighborhoods in term of venus which is very interrsting. Nevertheless this a lot of analysis that could be added to complete this work."
   ]
  }
 ],
 "metadata": {
  "kernelspec": {
   "display_name": "Python 3",
   "language": "python",
   "name": "python3"
  },
  "language_info": {
   "codemirror_mode": {
    "name": "ipython",
    "version": 3
   },
   "file_extension": ".py",
   "mimetype": "text/x-python",
   "name": "python",
   "nbconvert_exporter": "python",
   "pygments_lexer": "ipython3",
   "version": "3.7.6"
  }
 },
 "nbformat": 4,
 "nbformat_minor": 4
}
